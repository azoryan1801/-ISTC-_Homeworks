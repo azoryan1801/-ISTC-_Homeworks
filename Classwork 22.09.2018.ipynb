{
 "cells": [
  {
   "cell_type": "code",
   "execution_count": 52,
   "metadata": {},
   "outputs": [
    {
     "name": "stdout",
     "output_type": "stream",
     "text": [
      "7\n",
      "-2\n"
     ]
    }
   ],
   "source": [
    "a = [1, 4, 5, 7, 8, -2, 0, -1]\n",
    "print(a[3])\n",
    "print(a[5])"
   ]
  },
  {
   "cell_type": "code",
   "execution_count": 53,
   "metadata": {},
   "outputs": [
    {
     "name": "stdout",
     "output_type": "stream",
     "text": [
      "[-2, -1, 0, 1, 4, 5, 7, 8]\n",
      "[1, 4, 5, 7, 8, -2, 0, -1]\n"
     ]
    }
   ],
   "source": [
    "a_sorted = sorted(a)\n",
    "print(a_sorted)\n",
    "print(a)"
   ]
  },
  {
   "cell_type": "code",
   "execution_count": 54,
   "metadata": {},
   "outputs": [
    {
     "name": "stdout",
     "output_type": "stream",
     "text": [
      "a_sorted: [-1, 0, 1]\n",
      "a_sorted: [0, 1, 4, 5, 7]\n"
     ]
    }
   ],
   "source": [
    "print('a_sorted:', a_sorted[1:4])\n",
    "print('a_sorted:', a_sorted[2:7])"
   ]
  },
  {
   "cell_type": "code",
   "execution_count": 55,
   "metadata": {},
   "outputs": [
    {
     "data": {
      "text/plain": [
       "5"
      ]
     },
     "execution_count": 55,
     "metadata": {},
     "output_type": "execute_result"
    }
   ],
   "source": [
    "a_sorted.index(5)"
   ]
  },
  {
   "cell_type": "code",
   "execution_count": 56,
   "metadata": {},
   "outputs": [
    {
     "name": "stdout",
     "output_type": "stream",
     "text": [
      "[-2, -1, 0, 1, 4, 5, 7, 8]\n",
      "[-2, -1, 4, 5, 7, 8]\n"
     ]
    }
   ],
   "source": [
    "print(a_sorted)\n",
    "del a_sorted[2:4]\n",
    "print(a_sorted)"
   ]
  },
  {
   "cell_type": "code",
   "execution_count": 57,
   "metadata": {},
   "outputs": [
    {
     "data": {
      "text/plain": [
       "[-2, -1, 4, 5, 7, 8]"
      ]
     },
     "execution_count": 57,
     "metadata": {},
     "output_type": "execute_result"
    }
   ],
   "source": [
    "a_sorted"
   ]
  },
  {
   "cell_type": "code",
   "execution_count": 58,
   "metadata": {},
   "outputs": [
    {
     "name": "stdout",
     "output_type": "stream",
     "text": [
      "['Broccoli', 'Carrot', 'Lemon', 'Orange', 'Potatoes', 'Sausages', 'grapes', 'tomatoes']\n",
      "['grapes', 'Potatoes', 'tomatoes', 'Orange', 'Lemon', 'Broccoli', 'Carrot', 'Sausages']\n"
     ]
    }
   ],
   "source": [
    "b = [\"grapes\",\"Potatoes\", \"tomatoes\", \"Orange\", \"Lemon\", \"Broccoli\", \"Carrot\", \"Sausages\"]\n",
    "new_b = sorted(b)\n",
    "print(new_b)\n",
    "print(b)"
   ]
  },
  {
   "cell_type": "code",
   "execution_count": 59,
   "metadata": {},
   "outputs": [
    {
     "name": "stdout",
     "output_type": "stream",
     "text": [
      "[4, 5, 'Lemon', 'Broccoli']\n"
     ]
    }
   ],
   "source": [
    "c = a[1:3] + b[4:6]\n",
    "print(c)"
   ]
  }
 ],
 "metadata": {
  "kernelspec": {
   "display_name": "Python 3",
   "language": "python",
   "name": "python3"
  },
  "language_info": {
   "codemirror_mode": {
    "name": "ipython",
    "version": 3
   },
   "file_extension": ".py",
   "mimetype": "text/x-python",
   "name": "python",
   "nbconvert_exporter": "python",
   "pygments_lexer": "ipython3",
   "version": "3.6.5"
  }
 },
 "nbformat": 4,
 "nbformat_minor": 2
}
