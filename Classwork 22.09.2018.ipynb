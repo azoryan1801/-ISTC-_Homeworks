{
 "cells": [
  {
   "cell_type": "code",
   "execution_count": 52,
   "metadata": {},
   "outputs": [
    {
     "name": "stdout",
     "output_type": "stream",
     "text": [
      "7\n",
      "-2\n"
     ]
    }
   ],
   "source": [
    "a = [1, 4, 5, 7, 8, -2, 0, -1]\n",
    "print(a[3])\n",
    "print(a[5])"
   ]
  },
  {
   "cell_type": "code",
   "execution_count": 53,
   "metadata": {},
   "outputs": [
    {
     "name": "stdout",
     "output_type": "stream",
     "text": [
      "[-2, -1, 0, 1, 4, 5, 7, 8]\n",
      "[1, 4, 5, 7, 8, -2, 0, -1]\n"
     ]
    }
   ],
   "source": [
    "a_sorted = sorted(a)\n",
    "print(a_sorted)\n",
    "print(a)"
   ]
  },
  {
   "cell_type": "code",
   "execution_count": 54,
   "metadata": {},
   "outputs": [
    {
     "name": "stdout",
     "output_type": "stream",
     "text": [
      "a_sorted: [-1, 0, 1]\n",
      "a_sorted: [0, 1, 4, 5, 7]\n"
     ]
    }
   ],
   "source": [
    "print('a_sorted:', a_sorted[1:4])\n",
    "print('a_sorted:', a_sorted[2:7])"
   ]
  },
  {
   "cell_type": "code",
   "execution_count": 55,
   "metadata": {},
   "outputs": [
    {
     "data": {
      "text/plain": [
       "5"
      ]
     },
     "execution_count": 55,
     "metadata": {},
     "output_type": "execute_result"
    }
   ],
   "source": [
    "a_sorted.index(5)"
   ]
  },
  {
   "cell_type": "code",
   "execution_count": 56,
   "metadata": {},
   "outputs": [
    {
     "name": "stdout",
     "output_type": "stream",
     "text": [
      "[-2, -1, 0, 1, 4, 5, 7, 8]\n",
      "[-2, -1, 4, 5, 7, 8]\n"
     ]
    }
   ],
   "source": [
    "print(a_sorted)\n",
    "del a_sorted[2:4]\n",
    "print(a_sorted)"
   ]
  },
  {
   "cell_type": "code",
   "execution_count": 57,
   "metadata": {},
   "outputs": [
    {
     "data": {
      "text/plain": [
       "[-2, -1, 4, 5, 7, 8]"
      ]
     },
     "execution_count": 57,
     "metadata": {},
     "output_type": "execute_result"
    }
   ],
   "source": [
    "a_sorted"
   ]
  },
  {
   "cell_type": "code",
   "execution_count": 58,
   "metadata": {},
   "outputs": [
    {
     "name": "stdout",
     "output_type": "stream",
     "text": [
      "['Broccoli', 'Carrot', 'Lemon', 'Orange', 'Potatoes', 'Sausages', 'grapes', 'tomatoes']\n",
      "['grapes', 'Potatoes', 'tomatoes', 'Orange', 'Lemon', 'Broccoli', 'Carrot', 'Sausages']\n"
     ]
    }
   ],
   "source": [
    "b = [\"grapes\",\"Potatoes\", \"tomatoes\", \"Orange\", \"Lemon\", \"Broccoli\", \"Carrot\", \"Sausages\"]\n",
    "new_b = sorted(b)\n",
    "print(new_b)\n",
    "print(b)"
   ]
  },
  {
   "cell_type": "code",
   "execution_count": 59,
   "metadata": {},
   "outputs": [
    {
     "name": "stdout",
     "output_type": "stream",
     "text": [
      "[4, 5, 'Lemon', 'Broccoli']\n"
     ]
    }
   ],
   "source": [
    "c = a[1:3] + b[4:6]\n",
    "print(c)"
   ]
  },
  {
   "cell_type": "code",
   "execution_count": 1,
   "metadata": {},
   "outputs": [],
   "source": [
    "a1 = ['Cookies', 'Chocolate', 8, True, '-3', '-5', 'Chocolate', 8, False, 8]"
   ]
  },
  {
   "cell_type": "code",
   "execution_count": 8,
   "metadata": {},
   "outputs": [],
   "source": [
    "b1 = [8, True, 10, 14, 'Chocolate', 'Milk', 'Jelly', True, False, True]"
   ]
  },
  {
   "cell_type": "code",
   "execution_count": 6,
   "metadata": {},
   "outputs": [
    {
     "name": "stdout",
     "output_type": "stream",
     "text": [
      "set_a: {False, True, 'Chocolate', 8, '-5', 'Cookies', '-3'}\n"
     ]
    }
   ],
   "source": [
    "set_a = set(a1)\n",
    "print('set_a:' ,set_a)"
   ]
  },
  {
   "cell_type": "code",
   "execution_count": 9,
   "metadata": {},
   "outputs": [
    {
     "name": "stdout",
     "output_type": "stream",
     "text": [
      "set_b: {False, True, 'Chocolate', 8, 10, 14, 'Jelly', 'Milk'}\n"
     ]
    }
   ],
   "source": [
    "set_b = set(b1)\n",
    "print('set_b:', set_b)"
   ]
  },
  {
   "cell_type": "code",
   "execution_count": 26,
   "metadata": {},
   "outputs": [
    {
     "name": "stdout",
     "output_type": "stream",
     "text": [
      "union_ab:  {False, True, 'Chocolate', 8, 10, '-5', 14, 'Jelly', 'Cookies', '-3', 'Milk'}\n"
     ]
    }
   ],
   "source": [
    "union_ab = set_a.union(set_b)\n",
    "print('union_ab: ',union_ab)"
   ]
  },
  {
   "cell_type": "code",
   "execution_count": 27,
   "metadata": {},
   "outputs": [
    {
     "name": "stdout",
     "output_type": "stream",
     "text": [
      "intersection_ab:  {False, True, 'Chocolate', 8}\n"
     ]
    }
   ],
   "source": [
    "intersection_ab = set_a.intersection(set_b)\n",
    "print('intersection_ab: ' ,intersection_ab)"
   ]
  },
  {
   "cell_type": "code",
   "execution_count": 31,
   "metadata": {},
   "outputs": [
    {
     "name": "stdout",
     "output_type": "stream",
     "text": [
      "{False, True, 'Kit-kat', 'Chocolate', 8, 10, '-5', 14, 'Oreo', 'Jelly', 'Cookies', '-3', 'Milk'}\n"
     ]
    }
   ],
   "source": [
    "union_ab.add('Kit-kat')\n",
    "union_ab.add('Oreo')\n",
    "print(union_ab)"
   ]
  },
  {
   "cell_type": "code",
   "execution_count": 33,
   "metadata": {},
   "outputs": [
    {
     "name": "stdout",
     "output_type": "stream",
     "text": [
      "new_set:  {False, True, 'Kit-kat', 'Chocolate', 8, 10, '-5', 14, 'Oreo', 'Jelly', 'Cookies', '-3', 'Milk'}\n"
     ]
    }
   ],
   "source": [
    "new_set = union_ab | intersection_ab\n",
    "print('new_set: ', new_set)"
   ]
  },
  {
   "cell_type": "code",
   "execution_count": 34,
   "metadata": {},
   "outputs": [
    {
     "data": {
      "text/plain": [
       "True"
      ]
     },
     "execution_count": 34,
     "metadata": {},
     "output_type": "execute_result"
    }
   ],
   "source": [
    "'Chocolate' in new_set"
   ]
  },
  {
   "cell_type": "code",
   "execution_count": 35,
   "metadata": {},
   "outputs": [
    {
     "name": "stdout",
     "output_type": "stream",
     "text": [
      "{False, True, 'Kit-kat', 'Chocolate', 8, 10, '-5', 14, 'Jelly', 'Cookies', '-3', 'Milk'}\n"
     ]
    }
   ],
   "source": [
    "new_set.remove('Oreo')\n",
    "print(new_set)"
   ]
  },
  {
   "cell_type": "code",
   "execution_count": 54,
   "metadata": {},
   "outputs": [
    {
     "name": "stdout",
     "output_type": "stream",
     "text": [
      "[1, True, 'a', -2, 'Anna']\n",
      "[1, 'a', -2, 'Anna']\n",
      "(1, 'a', -2, 'Anna')\n"
     ]
    }
   ],
   "source": [
    "t1 = (1, True, \"a\", -2, \"Anna\")\n",
    "l1 = list(t1)\n",
    "print(l1)\n",
    "l1.pop(1)\n",
    "print(l1)\n",
    "t1 =tuple(l1)\n",
    "print(t1)"
   ]
  },
  {
   "cell_type": "code",
   "execution_count": 59,
   "metadata": {},
   "outputs": [
    {
     "name": "stdout",
     "output_type": "stream",
     "text": [
      "(1, 'a', 1, 2, 3)\n"
     ]
    }
   ],
   "source": [
    "t2 = (1, 2, 3, 4, 5)\n",
    "t3 = t1[0:2] + t2[0:3]\n",
    "print(t3)"
   ]
  },
  {
   "cell_type": "code",
   "execution_count": 61,
   "metadata": {},
   "outputs": [
    {
     "name": "stdout",
     "output_type": "stream",
     "text": [
      "1\n"
     ]
    }
   ],
   "source": [
    "print(t3[2])"
   ]
  },
  {
   "cell_type": "code",
   "execution_count": 62,
   "metadata": {},
   "outputs": [],
   "source": [
    "t4 = [(1,3,5), (8,9), (\"Anna\", \"Bob\",\n",
    "\"Alice\")]"
   ]
  },
  {
   "cell_type": "code",
   "execution_count": 65,
   "metadata": {},
   "outputs": [
    {
     "name": "stdout",
     "output_type": "stream",
     "text": [
      "3\n"
     ]
    }
   ],
   "source": [
    "print(t4[0][1])"
   ]
  },
  {
   "cell_type": "code",
   "execution_count": null,
   "metadata": {},
   "outputs": [],
   "source": []
  }
 ],
 "metadata": {
  "kernelspec": {
   "display_name": "Python 3",
   "language": "python",
   "name": "python3"
  },
  "language_info": {
   "codemirror_mode": {
    "name": "ipython",
    "version": 3
   },
   "file_extension": ".py",
   "mimetype": "text/x-python",
   "name": "python",
   "nbconvert_exporter": "python",
   "pygments_lexer": "ipython3",
   "version": "3.6.5"
  }
 },
 "nbformat": 4,
 "nbformat_minor": 2
}
