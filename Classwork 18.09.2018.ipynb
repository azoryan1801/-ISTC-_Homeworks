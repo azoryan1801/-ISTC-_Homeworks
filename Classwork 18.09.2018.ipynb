{
 "cells": [
  {
   "cell_type": "code",
   "execution_count": 6,
   "metadata": {},
   "outputs": [
    {
     "name": "stdout",
     "output_type": "stream",
     "text": [
      "a = 1\n",
      "b = Shahane\n"
     ]
    }
   ],
   "source": [
    "a = 1\n",
    "b = 'Shahane'\n",
    "print('a =', a)\n",
    "print('b =', b)"
   ]
  },
  {
   "cell_type": "code",
   "execution_count": 14,
   "metadata": {},
   "outputs": [
    {
     "name": "stdout",
     "output_type": "stream",
     "text": [
      "a = 1\n",
      "b = Shahane\n"
     ]
    }
   ],
   "source": [
    "a,b = (1, 'Shahane')\n",
    "print ('a =', a)\n",
    "print('b =', b)"
   ]
  },
  {
   "cell_type": "code",
   "execution_count": 12,
   "metadata": {},
   "outputs": [
    {
     "name": "stdout",
     "output_type": "stream",
     "text": [
      "Intro to Python\n"
     ]
    }
   ],
   "source": [
    "course = 'Intro to Python'\n",
    "print(course)"
   ]
  },
  {
   "cell_type": "code",
   "execution_count": 17,
   "metadata": {},
   "outputs": [
    {
     "name": "stdout",
     "output_type": "stream",
     "text": [
      "Aram Zoryan\n"
     ]
    }
   ],
   "source": [
    "student = 'Aram Zoryan'\n",
    "print(student)"
   ]
  },
  {
   "cell_type": "code",
   "execution_count": 18,
   "metadata": {},
   "outputs": [
    {
     "name": "stdout",
     "output_type": "stream",
     "text": [
      "Superman\n"
     ]
    }
   ],
   "source": [
    "nickname = 'Superman'\n",
    "print(nickname)"
   ]
  },
  {
   "cell_type": "code",
   "execution_count": 19,
   "metadata": {},
   "outputs": [
    {
     "name": "stdout",
     "output_type": "stream",
     "text": [
      "50\n"
     ]
    }
   ],
   "source": [
    "Grade = 50\n",
    "print(Grade)"
   ]
  },
  {
   "cell_type": "code",
   "execution_count": 21,
   "metadata": {},
   "outputs": [
    {
     "name": "stdout",
     "output_type": "stream",
     "text": [
      "True\n"
     ]
    }
   ],
   "source": [
    "python_expert = True\n",
    "print(python_expert)"
   ]
  },
  {
   "cell_type": "code",
   "execution_count": 23,
   "metadata": {},
   "outputs": [
    {
     "name": "stdout",
     "output_type": "stream",
     "text": [
      "course:  Intro to Python\n"
     ]
    }
   ],
   "source": [
    "print('course: ', course) "
   ]
  },
  {
   "cell_type": "code",
   "execution_count": 24,
   "metadata": {},
   "outputs": [
    {
     "name": "stdout",
     "output_type": "stream",
     "text": [
      "student:  Aram Zoryan\n"
     ]
    }
   ],
   "source": [
    "print('student: ', student)"
   ]
  },
  {
   "cell_type": "code",
   "execution_count": 25,
   "metadata": {},
   "outputs": [
    {
     "name": "stdout",
     "output_type": "stream",
     "text": [
      "nickname:  Superman\n"
     ]
    }
   ],
   "source": [
    "print('nickname: ', nickname)"
   ]
  },
  {
   "cell_type": "code",
   "execution_count": 26,
   "metadata": {},
   "outputs": [
    {
     "name": "stdout",
     "output_type": "stream",
     "text": [
      "grade: 50\n"
     ]
    }
   ],
   "source": [
    "print('grade:', Grade)"
   ]
  },
  {
   "cell_type": "code",
   "execution_count": 27,
   "metadata": {},
   "outputs": [
    {
     "name": "stdout",
     "output_type": "stream",
     "text": [
      "python_expert: True\n"
     ]
    }
   ],
   "source": [
    "print('python_expert:', python_expert)"
   ]
  },
  {
   "cell_type": "code",
   "execution_count": 11,
   "metadata": {},
   "outputs": [
    {
     "name": "stdout",
     "output_type": "stream",
     "text": [
      "The hypotenuse of the triangle ABC = 5.0\n"
     ]
    }
   ],
   "source": [
    "import math\n",
    "\n",
    "AB = 3\n",
    "AC = 4\n",
    "BC = math.sqrt(AB**2 + AC**2)\n",
    "print('The hypotenuse of the triangle ABC =', BC)\n"
   ]
  },
  {
   "cell_type": "code",
   "execution_count": 32,
   "metadata": {},
   "outputs": [
    {
     "name": "stdout",
     "output_type": "stream",
     "text": [
      "current time: time.struct_time(tm_year=2018, tm_mon=9, tm_mday=18, tm_hour=23, tm_min=21, tm_sec=43, tm_wday=1, tm_yday=261, tm_isdst=0)\n"
     ]
    }
   ],
   "source": [
    "import time\n",
    "import datetime\n",
    "import calendar\n",
    "\n",
    "localtime = time.localtime()\n",
    "print('current time:', localtime)"
   ]
  },
  {
   "cell_type": "code",
   "execution_count": 31,
   "metadata": {},
   "outputs": [
    {
     "name": "stdout",
     "output_type": "stream",
     "text": [
      "current time:  Tue Sep 18 23:20:34 2018\n"
     ]
    }
   ],
   "source": [
    "localtime=time.asctime()\n",
    "print('current time: ', localtime)"
   ]
  },
  {
   "cell_type": "code",
   "execution_count": 33,
   "metadata": {},
   "outputs": [
    {
     "name": "stdout",
     "output_type": "stream",
     "text": [
      "Year:  2018\n",
      "Month:  9\n",
      "Day:  18\n",
      "Day of the week (1st version):  2\n",
      "Day of the week (2nd version):  1\n"
     ]
    }
   ],
   "source": [
    "tday = datetime.date.today()\n",
    "print('Year: ', tday.year)\n",
    "print('Month: ', tday.month)\n",
    "print('Day: ', tday.day)\n",
    "print('Day of the week (1st version): ', tday.isoweekday())\n",
    "print('Day of the week (2nd version): ', tday.weekday())\n",
    "\n"
   ]
  },
  {
   "cell_type": "code",
   "execution_count": 38,
   "metadata": {},
   "outputs": [
    {
     "name": "stdout",
     "output_type": "stream",
     "text": [
      "Date today:  2018-09-18\n",
      "Date today - 5 days:  2018-09-13\n"
     ]
    }
   ],
   "source": [
    "tday = datetime.date.today()\n",
    "print('Date today: ', tday)\n",
    "tdelta = datetime.timedelta(days = 5)\n",
    "print('Date today - 5 days: ', tday - tdelta)"
   ]
  },
  {
   "cell_type": "code",
   "execution_count": 59,
   "metadata": {},
   "outputs": [
    {
     "name": "stdout",
     "output_type": "stream",
     "text": [
      "2018-09-19 00:54:28.902659\n",
      "Date today + 5 sec:  2018-09-19 00:54:23.902659\n"
     ]
    }
   ],
   "source": [
    "tday = datetime.datetime.today()\n",
    "tdeltasec = datetime.timedelta(seconds = 5)\n",
    "print(tday)\n",
    "print('Date today + 5 sec: ', tday - tdeltasec)"
   ]
  },
  {
   "cell_type": "code",
   "execution_count": 60,
   "metadata": {},
   "outputs": [
    {
     "name": "stdout",
     "output_type": "stream",
     "text": [
      "2018-09-17\n",
      "2018-09-19\n"
     ]
    }
   ],
   "source": [
    "tday = datetime.date.today()\n",
    "date_last_monday = tday - datetime.timedelta(days = tday.weekday())\n",
    "print(date_last_monday)\n",
    "print(tday)\n",
    "\n"
   ]
  },
  {
   "cell_type": "code",
   "execution_count": null,
   "metadata": {},
   "outputs": [],
   "source": []
  }
 ],
 "metadata": {
  "kernelspec": {
   "display_name": "Python 3",
   "language": "python",
   "name": "python3"
  },
  "language_info": {
   "codemirror_mode": {
    "name": "ipython",
    "version": 3
   },
   "file_extension": ".py",
   "mimetype": "text/x-python",
   "name": "python",
   "nbconvert_exporter": "python",
   "pygments_lexer": "ipython3",
   "version": "3.6.5"
  }
 },
 "nbformat": 4,
 "nbformat_minor": 2
}
