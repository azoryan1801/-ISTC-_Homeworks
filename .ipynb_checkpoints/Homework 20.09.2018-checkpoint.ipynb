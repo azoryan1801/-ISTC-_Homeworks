{
 "cells": [
  {
   "cell_type": "code",
   "execution_count": 2,
   "metadata": {},
   "outputs": [
    {
     "name": "stdout",
     "output_type": "stream",
     "text": [
      "hello iceland and mozambick jdhajs dhljashd ljash idl haslhsdahfoiahlfho\n"
     ]
    }
   ],
   "source": [
    "s = 'Hello Iceland and Mozambick jdhajs dhljashd ljash idl haslhsdahfoiahlfho'\n",
    "print(s.lower())"
   ]
  },
  {
   "cell_type": "code",
   "execution_count": 44,
   "metadata": {},
   "outputs": [
    {
     "name": "stdout",
     "output_type": "stream",
     "text": [
      "0\n",
      "0\n",
      "0\n",
      "1\n",
      "1\n",
      "0\n",
      "0\n",
      "0\n",
      "0\n",
      "0\n",
      "0\n",
      "3\n",
      "0\n",
      "0\n",
      "2\n",
      "0\n",
      "0\n",
      "1\n",
      "0\n",
      "0\n",
      "0\n",
      "0\n",
      "0\n",
      "0\n",
      "0\n",
      "0\n"
     ]
    }
   ],
   "source": [
    "print(s.count('a'))\n",
    "print(s.count('b'))\n",
    "print(s.count('c'))\n",
    "print(s.count('d'))\n",
    "print(s.count('e'))\n",
    "print(s.count('f'))\n",
    "print(s.count('g'))\n",
    "print(s.count('h'))\n",
    "print(s.count('i'))\n",
    "print(s.count('j'))\n",
    "print(s.count('k'))\n",
    "print(s.count('l'))\n",
    "print(s.count('m'))\n",
    "print(s.count('n'))\n",
    "print(s.count('o'))\n",
    "print(s.count('p'))\n",
    "print(s.count('q'))\n",
    "print(s.count('r'))\n",
    "print(s.count('s'))\n",
    "print(s.count('t'))\n",
    "print(s.count('u'))\n",
    "print(s.count('v'))\n",
    "print(s.count('w'))\n",
    "print(s.count('x'))\n",
    "print(s.count('y'))\n",
    "print(s.count('z'))"
   ]
  },
  {
   "cell_type": "code",
   "execution_count": null,
   "metadata": {},
   "outputs": [],
   "source": []
  }
 ],
 "metadata": {
  "kernelspec": {
   "display_name": "Python 3",
   "language": "python",
   "name": "python3"
  },
  "language_info": {
   "codemirror_mode": {
    "name": "ipython",
    "version": 3
   },
   "file_extension": ".py",
   "mimetype": "text/x-python",
   "name": "python",
   "nbconvert_exporter": "python",
   "pygments_lexer": "ipython3",
   "version": "3.6.5"
  }
 },
 "nbformat": 4,
 "nbformat_minor": 2
}
